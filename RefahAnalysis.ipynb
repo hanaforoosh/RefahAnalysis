{
 "cells": [
  {
   "cell_type": "markdown",
   "metadata": {},
   "source": [
    "### Imports"
   ]
  },
  {
   "cell_type": "code",
   "execution_count": 1,
   "metadata": {},
   "outputs": [],
   "source": [
    "import pandas as pd\n",
    "from sklearn.tree import DecisionTreeClassifier # Import Decision Tree Classifier\n",
    "from sklearn.model_selection import train_test_split # Import train_test_split function\n",
    "from sklearn.model_selection import KFold\n",
    "from sklearn.metrics import classification_report\n",
    "from sklearn import metrics #Import scikit-learn metrics module for accuracy calculation\n",
    "from sklearn.metrics import confusion_matrix\n",
    "from sklearn import preprocessing\n",
    "import pandas as pd\n",
    "from sklearn.cluster import KMeans \n",
    "from sklearn.neighbors import KNeighborsClassifier\n",
    "import numpy as np\n",
    "from ipywidgets import widgets\n",
    "from IPython.display import display\n",
    "from IPython.display import clear_output"
   ]
  },
  {
   "cell_type": "markdown",
   "metadata": {},
   "source": [
    "### Debugging commands"
   ]
  },
  {
   "cell_type": "code",
   "execution_count": 2,
   "metadata": {},
   "outputs": [
    {
     "name": "stdout",
     "output_type": "stream",
     "text": [
      "Pixiedust database opened successfully\n"
     ]
    },
    {
     "data": {
      "text/html": [
       "\n",
       "        <div style=\"margin:10px\">\n",
       "            <a href=\"https://github.com/ibm-watson-data-lab/pixiedust\" target=\"_new\">\n",
       "                <img src=\"https://github.com/ibm-watson-data-lab/pixiedust/raw/master/docs/_static/pd_icon32.png\" style=\"float:left;margin-right:10px\"/>\n",
       "            </a>\n",
       "            <span>Pixiedust version 1.1.18</span>\n",
       "        </div>\n",
       "        "
      ],
      "text/plain": [
       "<IPython.core.display.HTML object>"
      ]
     },
     "metadata": {},
     "output_type": "display_data"
    }
   ],
   "source": [
    "#pip install pixiedust\n",
    "import pixiedust\n",
    "# %%pixie_debugger\n",
    "\n",
    "# timer\n",
    "%load_ext autotime\n",
    "\n",
    "float_formatter = \"{:.2f}\".format\n",
    "np.set_printoptions(formatter={'float_kind':float_formatter})"
   ]
  },
  {
   "cell_type": "markdown",
   "metadata": {},
   "source": [
    "### Data reading"
   ]
  },
  {
   "cell_type": "markdown",
   "metadata": {},
   "source": [
    "#### SarparastChild"
   ]
  },
  {
   "cell_type": "code",
   "execution_count": 3,
   "metadata": {},
   "outputs": [
    {
     "name": "stdout",
     "output_type": "stream",
     "text": [
      "time: 1.8 s\n"
     ]
    }
   ],
   "source": [
    "sarparastChild = pd.read_csv('Data/sc.csv')\n",
    "# sarparastChild = pd.read_csv('Data/clusteredSarparastChild.csv')\n",
    "bs = sarparastChild\n",
    "bs=bs.drop('Unnamed: 0',axis=1)\n",
    "bs['behzistirialls'].fillna(0,inplace=True)\n",
    "bs['child_hoghogh'].fillna(0,inplace=True)\n",
    "bs['child_behzistirialls'].fillna(0,inplace=True)\n",
    "bs['child_melkrialls'].fillna(0,inplace=True)\n",
    "bs['child_jobprice'].fillna(0,inplace=True)\n",
    "bs['child_savari_car'].fillna(0,inplace=True)\n",
    "bs['child_general_car'].fillna(0,inplace=True)\n",
    "bs=bs[bs['child_hoghogh']>=0]\n",
    "bs=bs[bs['hoghogh']>=0]\n",
    "bs=bs[bs['melkrialls']>=0]\n",
    "bs.fillna(-1,inplace=True)"
   ]
  },
  {
   "cell_type": "markdown",
   "metadata": {},
   "source": [
    "### Preprocess"
   ]
  },
  {
   "cell_type": "code",
   "execution_count": 4,
   "metadata": {},
   "outputs": [
    {
     "name": "stdout",
     "output_type": "stream",
     "text": [
      "before:\n",
      "5             ری\n",
      "7         اصفهان\n",
      "44          ساری\n",
      "47          ساری\n",
      "50           رشت\n",
      "           ...  \n",
      "499990       رشت\n",
      "499991       رشت\n",
      "499993       کرج\n",
      "499994       رشت\n",
      "499998    اردبیل\n",
      "Name: Shahrestan, Length: 73262, dtype: object\n",
      "after:\n",
      "5         173\n",
      "7          34\n",
      "44        183\n",
      "47        183\n",
      "50        164\n",
      "         ... \n",
      "499990    164\n",
      "499991    164\n",
      "499993    364\n",
      "499994    164\n",
      "499998     18\n",
      "Name: Shahrestan, Length: 73262, dtype: int32\n",
      "time: 130 ms\n"
     ]
    }
   ],
   "source": [
    "bs['Mahane']=bs['hoghogh']+bs['jobprice']+bs['child_hoghogh']+bs['child_jobprice']\n",
    "bs['Behzisti']=bs['behzistirialls']+bs['child_behzistirialls']\n",
    "bs['Ziarati']=bs['ziarati_trip']+bs['child_ziarati_trip']\n",
    "bs['Other_trip']=bs['other_trip']+bs['child_other_trip']\n",
    "bs['Melk']=bs['melkrialls']+bs['child_melkrialls']\n",
    "bs['Savari']=bs['savari_car']+bs['child_savari_car']\n",
    "bs['General_Car']=bs['general_car']+bs['child_general_car']\n",
    "bs['Yarane']=bs['Yarane_92']\n",
    "dropList = ['Gender','isdeparted','Personid','Parent_Personid','IsRemoved','B97_Didari_FrstPrdBlnc', 'B97_Didari_AmDbtr',\n",
    "       'B97_Didari_Bnft', 'B97_Didari_LstPrdBlnc',\n",
    "       'B97_GheirDidari_FrstPrdBlnc', 'B97_GheirDidari_AmDbtr',\n",
    "       'B97_GheirDidari_Bnft', 'B97_GheirDidari_LstPrdBlnc','hoghogh','jobprice',\n",
    "            'child_hoghogh','behzistirialls','child_behzistirialls',\n",
    "            'ziarati_trip','child_ziarati_trip','other_trip','child_other_trip',\n",
    "           'melkrialls','child_melkrialls','child_jobprice','savari_car','child_savari_car',\n",
    "           'general_car','child_general_car','Yarane_92']\n",
    "bs=bs.drop(dropList,axis=1)\n",
    "\n",
    "mask = (bs['ismostajer'] < 0) & (bs['Melk']<=0)\n",
    "column_name = 'ismostajer'\n",
    "bs.loc[mask, [column_name]] = 1\n",
    "mask = (bs['ismostajer'] < 0) & (bs['Melk']>0)\n",
    "column_name = 'ismostajer'\n",
    "bs.loc[mask, [column_name]] = 0\n",
    "\n",
    "bs=bs[bs['Ostan']!=-1]\n",
    "bs=bs[bs['Shahrestan']!=-1]\n",
    "OstSha = bs[['Ostan','Shahrestan']]\n",
    "\n",
    "print('before:')\n",
    "print (bs['Shahrestan'])\n",
    "\n",
    "# Ostan\n",
    "Ostan = preprocessing.LabelEncoder()\n",
    "Ostan.fit(bs['Ostan'])\n",
    "tmp = Ostan.transform(bs['Ostan'])\n",
    "bs['Ostan'] = tmp\n",
    "\n",
    "#Shahrestan\n",
    "Shahrestan = preprocessing.LabelEncoder()\n",
    "Shahrestan.fit(bs['Shahrestan'])\n",
    "tmp = Shahrestan.transform(bs['Shahrestan'])\n",
    "bs['Shahrestan'] = tmp\n",
    "\n",
    "print('after:')\n",
    "print (bs['Shahrestan'])"
   ]
  },
  {
   "cell_type": "markdown",
   "metadata": {},
   "source": [
    "## App"
   ]
  },
  {
   "cell_type": "code",
   "execution_count": 5,
   "metadata": {
    "scrolled": false
   },
   "outputs": [
    {
     "data": {
      "application/vnd.jupyter.widget-view+json": {
       "model_id": "c21fa92dc5964475a2e36a7d770fbb83",
       "version_major": 2,
       "version_minor": 0
      },
      "text/plain": [
       "Dropdown(description='Ostan', index=7, options=('آذربایجان شرقی', 'آذربایجان غربی', 'اردبیل', 'اصفهان', 'البرز…"
      ]
     },
     "metadata": {},
     "output_type": "display_data"
    },
    {
     "data": {
      "application/vnd.jupyter.widget-view+json": {
       "model_id": "5ca8928cac574d96993e9eb486ab4f08",
       "version_major": 2,
       "version_minor": 0
      },
      "text/plain": [
       "Dropdown(description='Shahrestan', index=2, options=('ری', 'پیشوا', 'تهران', 'بهارستان', 'پردیس', 'دماوند', 'پ…"
      ]
     },
     "metadata": {},
     "output_type": "display_data"
    },
    {
     "data": {
      "application/vnd.jupyter.widget-view+json": {
       "model_id": "f44776113c8f4aa9b3c9f7ad454fd9a2",
       "version_major": 2,
       "version_minor": 0
      },
      "text/plain": [
       "Text(value='1', description='Behzisti')"
      ]
     },
     "metadata": {},
     "output_type": "display_data"
    },
    {
     "data": {
      "application/vnd.jupyter.widget-view+json": {
       "model_id": "2a81ed0bb38646daaadf9c67002c87c2",
       "version_major": 2,
       "version_minor": 0
      },
      "text/plain": [
       "Text(value='1', description='familysize')"
      ]
     },
     "metadata": {},
     "output_type": "display_data"
    },
    {
     "data": {
      "application/vnd.jupyter.widget-view+json": {
       "model_id": "8fb3839b70674fc3a9c27f04a5dab749",
       "version_major": 2,
       "version_minor": 0
      },
      "text/plain": [
       "Text(value='1', description='Savari')"
      ]
     },
     "metadata": {},
     "output_type": "display_data"
    },
    {
     "data": {
      "application/vnd.jupyter.widget-view+json": {
       "model_id": "6eef22367e414b529ca98af55953993e",
       "version_major": 2,
       "version_minor": 0
      },
      "text/plain": [
       "Text(value='1', description='Melk')"
      ]
     },
     "metadata": {},
     "output_type": "display_data"
    },
    {
     "data": {
      "application/vnd.jupyter.widget-view+json": {
       "model_id": "731f56f16c194e25ba2e468b3cf9beb5",
       "version_major": 2,
       "version_minor": 0
      },
      "text/plain": [
       "Text(value='1', description='Mahane')"
      ]
     },
     "metadata": {},
     "output_type": "display_data"
    },
    {
     "data": {
      "application/vnd.jupyter.widget-view+json": {
       "model_id": "b15883776f7b461e9cf19327f3d10611",
       "version_major": 2,
       "version_minor": 0
      },
      "text/plain": [
       "Dropdown(description='Mostajer', index=1, options=('بله', 'خیر'), value='خیر')"
      ]
     },
     "metadata": {},
     "output_type": "display_data"
    },
    {
     "data": {
      "application/vnd.jupyter.widget-view+json": {
       "model_id": "16618b545b8345f7b5ec05416a3baf22",
       "version_major": 2,
       "version_minor": 0
      },
      "text/plain": [
       "Button(description='نتیجه', style=ButtonStyle())"
      ]
     },
     "metadata": {},
     "output_type": "display_data"
    },
    {
     "data": {
      "application/vnd.jupyter.widget-view+json": {
       "model_id": "bdc8a77c12654cc7828ed307d3f27c6a",
       "version_major": 2,
       "version_minor": 0
      },
      "text/plain": [
       "Output()"
      ]
     },
     "metadata": {},
     "output_type": "display_data"
    },
    {
     "name": "stdout",
     "output_type": "stream",
     "text": [
      "time: 126 ms\n"
     ]
    }
   ],
   "source": [
    "def scoreFunc(inp):\n",
    "    #return ((12*(inp['Mahane']-(0.5*inp['ismostajer']*inp['Mahane'])))/inp['familysize'])+inp['Behzisti']+inp['Melk']+inp['Savari']\n",
    "    return (10*12.0*(inp['Mahane'])/(inp['familysize']+inp['ismostajer']))+inp['Behzisti']+inp['Melk']+(inp['Savari']*5)\n",
    "\n",
    "def myDecile(me, originalData):\n",
    "    od = originalData\n",
    "    od = od.append(me)\n",
    "    tmp =scoreFunc(od)\n",
    "    mes=scoreFunc(me)[0]\n",
    "    tmp1=pd.DataFrame()\n",
    "    tmp1['Value']=tmp\n",
    "    tmp1['Decile']= pd.qcut(tmp1['Value'],10,labels=False)\n",
    "    tmp1=tmp1.sort_values(by=['Value'])\n",
    "    res = tmp1[tmp1['Value']==mes]['Decile'][0]\n",
    "    return res+1\n",
    "\n",
    "\n",
    "\n",
    "def on_change(inpu):\n",
    "    newOstan =inputs['Ostan'].value\n",
    "    shah=OstSha[OstSha['Ostan']==newOstan]['Shahrestan']\n",
    "    shah=shah.drop_duplicates()\n",
    "    inputs['Shahrestan'].options=shah\n",
    "    inputs['Shahrestan'].value=shah.iloc[0]\n",
    "\n",
    "inputs = {}\n",
    "featurelist=bs.columns\n",
    "notIncludedlist=['Ziarati','General_Car','Yarane','Other_trip']\n",
    "featurelist = list(set(featurelist)-set(notIncludedlist))\n",
    "featurelist.remove('Ostan')\n",
    "featurelist.remove('Shahrestan')\n",
    "featurelist.insert(0,'Ostan')\n",
    "featurelist.insert(1,'Shahrestan')\n",
    "\n",
    "aux = bs[featurelist]\n",
    "for col in aux.columns:\n",
    "    if (col=='Ostan'):\n",
    "        val = 'تهران'\n",
    "        val = str(val)\n",
    "        inputs[col]= widgets.Dropdown(\n",
    "    options=Ostan.classes_,\n",
    "    value=val,\n",
    "    description='Ostan',\n",
    ")\n",
    "        inputs[col].observe(on_change)\n",
    "\n",
    "    elif (col =='Shahrestan'):\n",
    "        shah=OstSha[OstSha['Ostan']=='تهران']['Shahrestan']\n",
    "        shah=shah.drop_duplicates()\n",
    "        val = 'تهران'\n",
    "        val = str(val)\n",
    "        inputs[col]= widgets.Dropdown(\n",
    "    options=shah,\n",
    "    value=val,\n",
    "    description='Shahrestan',\n",
    ")       \n",
    "    elif( col == 'ismostajer'):\n",
    "        val = 'خیر'\n",
    "        inputs[col]= widgets.Dropdown(\n",
    "    options=['بله','خیر'],\n",
    "    value=val,\n",
    "    description='Mostajer',\n",
    ")       \n",
    "        \n",
    "    else: \n",
    "        inputs[col]=widgets.Text(description=col,value='1')\n",
    "    display(inputs[col])\n",
    "    \n",
    "button = widgets.Button(description=\"نتیجه\")\n",
    "output = widgets.Output()\n",
    "\n",
    "display(button, output)\n",
    "\n",
    "def on_button_clicked(b):\n",
    "    with output:\n",
    "        clear_output()\n",
    "        test_input={}\n",
    "        for key,value in inputs.items():\n",
    "            val=value.value\n",
    "            if (key=='Ostan'):\n",
    "                val = Ostan.transform([val])[0]\n",
    "            elif (key =='Shahrestan'):\n",
    "                val = Shahrestan.transform([val])[0]\n",
    "            elif (key =='ismostajer'):\n",
    "                if(val=='بله'):\n",
    "                    val=1\n",
    "                else:\n",
    "                    val=0\n",
    "            val=float(val)\n",
    "            test_input[key]=[val]\n",
    "        test_input =  pd.DataFrame.from_dict(test_input)\n",
    "        #print(test_input)\n",
    "        dec =myDecile(test_input,aux)\n",
    "        print ('شما در دهک',dec,'هستید.')\n",
    "        print()\n",
    "        ostInp=(int)(test_input['Ostan'][0])\n",
    "        shahInp=(int)(test_input['Shahrestan'][0])\n",
    "        \n",
    "        \n",
    "        ziaratiTotal=bs['Ziarati'].sum()\n",
    "        tripTotal=bs['Other_trip'].sum()\n",
    "        \n",
    "        ostanZiarati = bs[bs['Ostan']==ostInp]['Ziarati'].sum()\n",
    "        shahrZiarati = bs[bs['Shahrestan']==shahInp]['Ziarati'].sum()\n",
    "        \n",
    "        ostanZiaratiRatio=str(round(((ostanZiarati/ziaratiTotal)*100),2))+'%'\n",
    "        shahrZiaratiRatio=str(round(((shahrZiarati/ostanZiarati)*100),2))+'%'\n",
    "        \n",
    "        print (ostanZiaratiRatio, 'از سفرهای زیارتی کشور از استان شما انجام شده است.')\n",
    "        print (shahrZiaratiRatio, 'از سفرهای زیارتی استان از شهرستان شما انجام شده است.')\n",
    "        print()\n",
    "        ostanTrip = bs[bs['Ostan']==ostInp]['Other_trip'].sum()\n",
    "        shahrTrip = bs[bs['Shahrestan']==shahInp]['Other_trip'].sum()\n",
    "        \n",
    "        ostanTripRatio=str(round(((ostanTrip/tripTotal)*100),2))+'%'\n",
    "        shahrTripRatio=str(round(((shahrTrip/tripTotal)*100),2))+'%'\n",
    "        \n",
    "        print (ostanTripRatio, 'از سفرهای غیرزیارتی کشور از استان شما انجام شده است.')\n",
    "        print (shahrTripRatio, 'از سفرهای غیرزیارتی استان از شهرستان شما انجام شده است.')\n",
    "        print()\n",
    "        bodeOstan=round(bs[bs['Ostan']==ostInp]['familysize'].mean(),1)\n",
    "        bodeShahrestan=round(bs[bs['Shahrestan']==shahInp]['familysize'].mean(),1)\n",
    "        \n",
    "        print ('در استان شما به طور میانگین بعد خانوارها برابر',bodeOstan,'است.')\n",
    "        print ('در شهرستان شما به طور میانگین بعد خانوارها برابر',bodeShahrestan,'است.')\n",
    "        print()\n",
    "        \n",
    "        mostOstan=str(round((bs[bs['Ostan']==ostInp]['ismostajer'].mean()*100),2))+'%'\n",
    "        mostShah=str(round((bs[bs['Shahrestan']==shahInp]['ismostajer'].mean()*100),2))+'%'\n",
    "        print('درصد اجاره‌نشین‌ها در استان شما برابر ',mostOstan,'است.')\n",
    "        print('درصد اجاره‌نشین‌ها در شهرستان شما برابر ',mostShah,'است.')\n",
    "        print()\n",
    "        \n",
    "        daramadOstan=round(bs[bs['Ostan']==ostInp]['Mahane'].mean())\n",
    "        daramadShahr=round(bs[bs['Shahrestan']==shahInp]['Mahane'].mean())\n",
    "        \n",
    "        mahan=int(test_input['Mahane'][0])\n",
    "        ekhtOss=mahan-daramadOstan\n",
    "        if ekhtOss>0:\n",
    "            print('متوسط درآمد ماهانه خانوارها در استان شما برابر',f'{daramadOstan:,}','ريال است و درآمد شما از این متوسط، به میزان',f'{ekhtOss:,}','بیشتر است.')\n",
    "        elif ekhtOss<0:\n",
    "            ekhtOss=-1*ekhtOss\n",
    "            print('متوسط درآمد ماهانه خانوارها در استان شما برابر',f'{daramadOstan:,}','ريال است و درآمد شما از این متوسط، به میزان',f'{ekhtOss:,}','کمتر است.')\n",
    "        else:\n",
    "            print('میزان درآمد خانوار شما برابر میانگین درآمد استان است.')\n",
    "            \n",
    "        ekhtSha=mahan-daramadShahr\n",
    "        if ekhtSha>0:\n",
    "            print('متوسط درآمد ماهانه خانوارها در شهرستان شما برابر',f'{daramadShahr:,}','ريال است و درآمد شما از این متوسط، به میزان',f'{ekhtSha:,}','بیشتر است.')\n",
    "        elif ekhtSha<0:\n",
    "            ekhtSha=-1*ekhtSha\n",
    "            print('متوسط درآمد ماهانه خانوارها در شهرستان شما برابر',f'{daramadShahr:,}','ريال است و درآمد شما از این متوسط، به میزان',f'{ekhtSha:,}','کمتر است.')\n",
    "        else:\n",
    "            print('میزان درآمد خانوار شما برابر میانگین درآمد شهرستان است.')\n",
    "\n",
    "button.on_click(on_button_clicked)"
   ]
  },
  {
   "cell_type": "markdown",
   "metadata": {},
   "source": [
    "### Data Preview"
   ]
  },
  {
   "cell_type": "code",
   "execution_count": 10,
   "metadata": {},
   "outputs": [
    {
     "data": {
      "text/html": [
       "<div>\n",
       "<style scoped>\n",
       "    .dataframe tbody tr th:only-of-type {\n",
       "        vertical-align: middle;\n",
       "    }\n",
       "\n",
       "    .dataframe tbody tr th {\n",
       "        vertical-align: top;\n",
       "    }\n",
       "\n",
       "    .dataframe thead th {\n",
       "        text-align: right;\n",
       "    }\n",
       "</style>\n",
       "<table border=\"1\" class=\"dataframe\">\n",
       "  <thead>\n",
       "    <tr style=\"text-align: right;\">\n",
       "      <th></th>\n",
       "      <th>familysize</th>\n",
       "      <th>Ostan</th>\n",
       "      <th>Shahrestan</th>\n",
       "      <th>ismostajer</th>\n",
       "      <th>Mahane</th>\n",
       "      <th>Behzisti</th>\n",
       "      <th>Ziarati</th>\n",
       "      <th>Other_trip</th>\n",
       "      <th>Melk</th>\n",
       "      <th>Savari</th>\n",
       "      <th>General_Car</th>\n",
       "      <th>Yarane</th>\n",
       "    </tr>\n",
       "  </thead>\n",
       "  <tbody>\n",
       "    <tr>\n",
       "      <td>5</td>\n",
       "      <td>2</td>\n",
       "      <td>7</td>\n",
       "      <td>173</td>\n",
       "      <td>0.0</td>\n",
       "      <td>12977347.0</td>\n",
       "      <td>0.0</td>\n",
       "      <td>0</td>\n",
       "      <td>0</td>\n",
       "      <td>6.900000e+08</td>\n",
       "      <td>-1.000000e+00</td>\n",
       "      <td>-1.0</td>\n",
       "      <td>1</td>\n",
       "    </tr>\n",
       "    <tr>\n",
       "      <td>7</td>\n",
       "      <td>1</td>\n",
       "      <td>3</td>\n",
       "      <td>34</td>\n",
       "      <td>0.0</td>\n",
       "      <td>-1.0</td>\n",
       "      <td>0.0</td>\n",
       "      <td>0</td>\n",
       "      <td>5</td>\n",
       "      <td>1.800000e+09</td>\n",
       "      <td>-1.000000e+00</td>\n",
       "      <td>-1.0</td>\n",
       "      <td>0</td>\n",
       "    </tr>\n",
       "    <tr>\n",
       "      <td>44</td>\n",
       "      <td>4</td>\n",
       "      <td>19</td>\n",
       "      <td>183</td>\n",
       "      <td>0.0</td>\n",
       "      <td>76371687.0</td>\n",
       "      <td>0.0</td>\n",
       "      <td>2</td>\n",
       "      <td>0</td>\n",
       "      <td>1.900000e+09</td>\n",
       "      <td>1.200000e+09</td>\n",
       "      <td>-1.0</td>\n",
       "      <td>1</td>\n",
       "    </tr>\n",
       "    <tr>\n",
       "      <td>47</td>\n",
       "      <td>4</td>\n",
       "      <td>19</td>\n",
       "      <td>183</td>\n",
       "      <td>0.0</td>\n",
       "      <td>80424806.0</td>\n",
       "      <td>0.0</td>\n",
       "      <td>0</td>\n",
       "      <td>0</td>\n",
       "      <td>1.730000e+09</td>\n",
       "      <td>4.500000e+08</td>\n",
       "      <td>-1.0</td>\n",
       "      <td>1</td>\n",
       "    </tr>\n",
       "    <tr>\n",
       "      <td>50</td>\n",
       "      <td>4</td>\n",
       "      <td>29</td>\n",
       "      <td>164</td>\n",
       "      <td>1.0</td>\n",
       "      <td>16229832.0</td>\n",
       "      <td>0.0</td>\n",
       "      <td>0</td>\n",
       "      <td>0</td>\n",
       "      <td>3.977700e+09</td>\n",
       "      <td>4.500000e+08</td>\n",
       "      <td>-1.0</td>\n",
       "      <td>1</td>\n",
       "    </tr>\n",
       "  </tbody>\n",
       "</table>\n",
       "</div>"
      ],
      "text/plain": [
       "    familysize  Ostan  Shahrestan  ismostajer      Mahane  Behzisti  Ziarati  \\\n",
       "5            2      7         173         0.0  12977347.0       0.0        0   \n",
       "7            1      3          34         0.0        -1.0       0.0        0   \n",
       "44           4     19         183         0.0  76371687.0       0.0        2   \n",
       "47           4     19         183         0.0  80424806.0       0.0        0   \n",
       "50           4     29         164         1.0  16229832.0       0.0        0   \n",
       "\n",
       "    Other_trip          Melk        Savari  General_Car  Yarane  \n",
       "5            0  6.900000e+08 -1.000000e+00         -1.0       1  \n",
       "7            5  1.800000e+09 -1.000000e+00         -1.0       0  \n",
       "44           0  1.900000e+09  1.200000e+09         -1.0       1  \n",
       "47           0  1.730000e+09  4.500000e+08         -1.0       1  \n",
       "50           0  3.977700e+09  4.500000e+08         -1.0       1  "
      ]
     },
     "execution_count": 10,
     "metadata": {},
     "output_type": "execute_result"
    },
    {
     "name": "stdout",
     "output_type": "stream",
     "text": [
      "time: 13 ms\n"
     ]
    }
   ],
   "source": [
    "bs.head()"
   ]
  },
  {
   "cell_type": "markdown",
   "metadata": {},
   "source": [
    "## Classifiers & Clusterings"
   ]
  },
  {
   "cell_type": "markdown",
   "metadata": {},
   "source": [
    "### Decision Tree & K-Fold cross validation"
   ]
  },
  {
   "cell_type": "code",
   "execution_count": 11,
   "metadata": {
    "scrolled": false
   },
   "outputs": [
    {
     "name": "stdout",
     "output_type": "stream",
     "text": [
      "Accuracy = 0.8203903371093216\n",
      "\n",
      "Specifity = 0.49589858314690527\n",
      "Recall = 0.8930838623454728\n",
      "\n",
      "Noname = 0.5095785440613027\n",
      "Precision = 0.8877449352374627\n",
      "-----------\n",
      "\n",
      "Accuracy = 0.7935034802784223\n",
      "\n",
      "Specifity = 0.5686160972785177\n",
      "Recall = 0.8628571428571429\n",
      "\n",
      "Noname = 0.5611428571428572\n",
      "Precision = 0.8664156356464049\n",
      "-----------\n",
      "\n",
      "Accuracy = 0.7856947856947857\n",
      "\n",
      "Specifity = 0.594048884165781\n",
      "Recall = 0.8519470977222631\n",
      "\n",
      "Noname = 0.581081081081081\n",
      "Precision = 0.8585708996667901\n",
      "-----------\n",
      "\n",
      "Accuracy = 0.7831012831012831\n",
      "\n",
      "Specifity = 0.5628227194492255\n",
      "Recall = 0.8518717535375246\n",
      "\n",
      "Noname = 0.5425884955752213\n",
      "Precision = 0.8619064878579196\n",
      "-----------\n",
      "\n",
      "Accuracy = 0.8075348075348076\n",
      "\n",
      "Specifity = 0.5292047853624209\n",
      "Recall = 0.8745131244707874\n",
      "\n",
      "Noname = 0.5036838580040187\n",
      "Precision = 0.8853077318703926\n",
      "-----------\n",
      "\n",
      "Accuracy = 0.8158613158613158\n",
      "\n",
      "Specifity = 0.514525993883792\n",
      "Recall = 0.8813559322033898\n",
      "\n",
      "Noname = 0.4852198990627253\n",
      "Precision = 0.8930796430375484\n",
      "-----------\n",
      "\n",
      "Accuracy = 0.8086268086268086\n",
      "\n",
      "Specifity = 0.5231741573033708\n",
      "Recall = 0.8774991528295493\n",
      "\n",
      "Noname = 0.5074931880108992\n",
      "Precision = 0.8840901331512462\n",
      "-----------\n",
      "\n",
      "Accuracy = 0.8119028119028119\n",
      "\n",
      "Specifity = 0.5283968368080517\n",
      "Recall = 0.8783487784330244\n",
      "\n",
      "Noname = 0.5044612216884008\n",
      "Precision = 0.8882262736411655\n",
      "-----------\n",
      "\n",
      "Accuracy = 0.799071799071799\n",
      "\n",
      "Specifity = 0.548114434330299\n",
      "Recall = 0.8657567380787837\n",
      "\n",
      "Noname = 0.5203703703703704\n",
      "Precision = 0.8781983876621101\n",
      "-----------\n",
      "\n",
      "Accuracy = 0.7960687960687961\n",
      "\n",
      "Specifity = 0.5256837891927952\n",
      "Recall = 0.8656255362965506\n",
      "\n",
      "Noname = 0.501591343093571\n",
      "Precision = 0.8764552562988706\n",
      "-----------\n",
      "\n",
      "\n",
      "mean Accuracy = 0.8021756225250153\n",
      "\n",
      "mean Specifity = 0.539048628092116\n",
      "\n",
      "mean Recall = 0.8702859118774489\n",
      "\n",
      "mean Noname = 0.5217210858090447\n",
      "\n",
      "mean Precision = 0.877999538406991\n",
      "time: 4.55 s\n"
     ]
    }
   ],
   "source": [
    "#split dataset in features and target variable\n",
    "feature_cols =(list)(bs.columns)\n",
    "target_cols = ['Yarane']\n",
    "feature_cols = list(set(feature_cols)-set(target_cols))\n",
    "X = bs[feature_cols] # Features\n",
    "y = bs[target_cols] # Target variable\n",
    "\n",
    "# Split dataset into training set and test set\n",
    "kf = KFold(n_splits=10)\n",
    "Accuracy = []\n",
    "Specifity=[]\n",
    "Noname=[]\n",
    "Recall=[]\n",
    "Precision=[]\n",
    "maxAcc=0\n",
    "for train_index, test_index in kf.split(bs):\n",
    "        train = bs.iloc[train_index]\n",
    "        test = bs.iloc[test_index]\n",
    "        # Create Decision Tree classifer object\n",
    "        clf = DecisionTreeClassifier()\n",
    "\n",
    "        X_train = train[feature_cols]\n",
    "        y_train = train[target_cols]\n",
    "        X_test = test[feature_cols]\n",
    "        y_test = test[target_cols]\n",
    "        # Train Decision Tree Classifer\n",
    "        clf = clf.fit(X_train,y_train)\n",
    "        \n",
    "        #Predict the response for test dataset\n",
    "        y_pred = clf.predict(X_test)\n",
    "        #print('Report :',classification_report(y_test, y_pred))\n",
    "        # Model Accuracy, how often is the classifier correct?\n",
    "        acc = metrics.accuracy_score(y_test, y_pred)\n",
    "        prec = metrics.precision_score(y_test, y_pred)\n",
    "        tn, fp, fn, tp = confusion_matrix(y_test, y_pred).ravel()\n",
    "        if (tn==0 and fp==0):\n",
    "            spec = 1\n",
    "        else:\n",
    "            spec= tn/(tn+fp)\n",
    "        rec=metrics.recall_score(y_test, y_pred)\n",
    "        if (tn==0 and fn==0):\n",
    "            non=1\n",
    "        else:\n",
    "            non = tn/(tn+fn)\n",
    "        #چقدر درست حدس زده؟\n",
    "        print('Accuracy =',acc)\n",
    "        print()\n",
    "        #چقدر از کل 0 های واقعی رو تونست حدس بزنه؟\n",
    "        print('Specifity =',spec)\n",
    "        #چقدر از کل 1 های واقعی رو تونست حدس بزنه؟\n",
    "        print('Recall =',rec)\n",
    "        print()\n",
    "        #چقدر از اونایی که گفت 0 هستند واقعا 0 بودند؟\n",
    "        print('Noname =',non)\n",
    "        #چقدر از اونایی که گفت 1 هستند واقعا 1 بودند؟\n",
    "        print('Precision =',prec)\n",
    "        print('-----------')\n",
    "        print()\n",
    "        \n",
    "        if (acc>maxAcc):\n",
    "            maxClf=clf\n",
    "            maxAcc=acc\n",
    "            x_t= X_train\n",
    "            y_t= y_train\n",
    "        Accuracy.append(acc)\n",
    "        Specifity.append(spec)\n",
    "        Recall.append(rec)\n",
    "        Noname.append(non)\n",
    "        Precision.append(prec)\n",
    "        \n",
    "sum=0\n",
    "for i in Accuracy:\n",
    "    sum+=i\n",
    "avg = sum/len(Accuracy)\n",
    "print()\n",
    "print('mean Accuracy =',avg)\n",
    "\n",
    "sum=0\n",
    "for i in Specifity:\n",
    "    sum+=i\n",
    "avg = sum/len(Specifity)\n",
    "print()\n",
    "print('mean Specifity =',avg)\n",
    "\n",
    "sum=0\n",
    "for i in Recall:\n",
    "    sum+=i\n",
    "avg = sum/len(Recall)\n",
    "print()\n",
    "print('mean Recall =',avg)\n",
    "\n",
    "sum=0\n",
    "for i in Noname:\n",
    "    sum+=i\n",
    "avg = sum/len(Noname)\n",
    "print()\n",
    "print('mean Noname =',avg)\n",
    "\n",
    "sum=0\n",
    "for i in Precision:\n",
    "    sum+=i\n",
    "avg = sum/len(Precision)\n",
    "print()\n",
    "print('mean Precision =',avg)\n",
    "\n",
    "if (maxClf!=None):\n",
    "    clf=maxClf\n",
    "    X_train=x_t\n",
    "    y_train=y_t"
   ]
  },
  {
   "cell_type": "markdown",
   "metadata": {},
   "source": [
    "### KNN"
   ]
  },
  {
   "cell_type": "code",
   "execution_count": null,
   "metadata": {},
   "outputs": [],
   "source": [
    "#split dataset in features and target variable\n",
    "feature_cols =(list)(bs.columns)\n",
    "target_cols = ['Yarane']\n",
    "feature_cols = list(set(feature_cols)-set(target_cols))\n",
    "X = bs[feature_cols] # Features\n",
    "y = bs[target_cols] # Target variable\n",
    "\n",
    "# Split dataset into training set and test set\n",
    "kf = KFold(n_splits=10)\n",
    "Accuracy = []\n",
    "Specifity=[]\n",
    "Noname=[]\n",
    "Recall=[]\n",
    "Precision=[]\n",
    "maxAcc=0\n",
    "for train_index, test_index in kf.split(bs):\n",
    "        train = bs.iloc[train_index]\n",
    "        test = bs.iloc[test_index]\n",
    "        # Create Decision Tree classifer object\n",
    "        clf =  KNeighborsClassifier(n_neighbors=10)\n",
    "\n",
    "        X_train = train[feature_cols]\n",
    "        y_train = train[target_cols]\n",
    "        X_test = test[feature_cols]\n",
    "        y_test = test[target_cols]\n",
    "        # Train Decision Tree Classifer\n",
    "        clf = clf.fit(X_train,y_train)\n",
    "        \n",
    "        #Predict the response for test dataset\n",
    "        y_pred = clf.predict(X_test)\n",
    "        #print('Report :',classification_report(y_test, y_pred))\n",
    "        # Model Accuracy, how often is the classifier correct?\n",
    "        acc = metrics.accuracy_score(y_test, y_pred)\n",
    "        prec = metrics.precision_score(y_test, y_pred)\n",
    "        tn, fp, fn, tp = confusion_matrix(y_test, y_pred).ravel()\n",
    "        if (tn==0 and fp==0):\n",
    "            spec = 1\n",
    "        else:\n",
    "            spec= tn/(tn+fp)\n",
    "        rec=metrics.recall_score(y_test, y_pred)\n",
    "        if (tn==0 and fn==0):\n",
    "            non=1\n",
    "        else:\n",
    "            non = tn/(tn+fn)\n",
    "        #چقدر درست حدس زده؟\n",
    "        print('Accuracy =',acc)\n",
    "        print()\n",
    "        #چقدر از کل 0 های واقعی رو تونست حدس بزنه؟\n",
    "        print('Specifity =',spec)\n",
    "        #چقدر از کل 1 های واقعی رو تونست حدس بزنه؟\n",
    "        print('Recall =',rec)\n",
    "        print()\n",
    "        #چقدر از اونایی که گفت 0 هستند واقعا 0 بودند؟\n",
    "        print('Noname =',non)\n",
    "        #چقدر از اونایی که گفت 1 هستند واقعا 1 بودند؟\n",
    "        print('Precision =',prec)\n",
    "        print('-----------')\n",
    "        print()\n",
    "        \n",
    "        if (acc>maxAcc):\n",
    "            maxClf=clf\n",
    "            maxAcc=acc\n",
    "            x_t= X_train\n",
    "            y_t= y_train\n",
    "        Accuracy.append(acc)\n",
    "        Specifity.append(spec)\n",
    "        Recall.append(rec)\n",
    "        Noname.append(non)\n",
    "        Precision.append(prec)\n",
    "        \n",
    "sum=0\n",
    "for i in Accuracy:\n",
    "    sum+=i\n",
    "avg = sum/len(Accuracy)\n",
    "print()\n",
    "print('mean Accuracy =',avg)\n",
    "\n",
    "sum=0\n",
    "for i in Specifity:\n",
    "    sum+=i\n",
    "avg = sum/len(Specifity)\n",
    "print()\n",
    "print('mean Specifity =',avg)\n",
    "\n",
    "sum=0\n",
    "for i in Recall:\n",
    "    sum+=i\n",
    "avg = sum/len(Recall)\n",
    "print()\n",
    "print('mean Recall =',avg)\n",
    "\n",
    "sum=0\n",
    "for i in Noname:\n",
    "    sum+=i\n",
    "avg = sum/len(Noname)\n",
    "print()\n",
    "print('mean Noname =',avg)\n",
    "\n",
    "sum=0\n",
    "for i in Precision:\n",
    "    sum+=i\n",
    "avg = sum/len(Precision)\n",
    "print()\n",
    "print('mean Precision =',avg)\n",
    "\n",
    "if (maxClf!=None):\n",
    "    clf=maxClf\n",
    "    X_train=x_t\n",
    "    y_train=y_t"
   ]
  },
  {
   "cell_type": "markdown",
   "metadata": {},
   "source": [
    "### K-Means"
   ]
  },
  {
   "cell_type": "code",
   "execution_count": null,
   "metadata": {},
   "outputs": [],
   "source": [
    "cols =(list)(bs.columns)\n",
    "notIncluded_cols = ['Ostan','Shahrestan','IsRemoved']\n",
    "cols = list(set(cols)-set(notIncluded_cols))\n",
    "aux = bs[cols] # Features\n",
    "\n",
    "clusters = 10\n",
    "kmeans = KMeans(n_clusters = clusters) \n",
    "kmeans = kmeans.fit(aux)\n",
    "kmeans.cluster_centers_\n",
    "centroids=pd.DataFrame(kmeans.cluster_centers_,columns=aux.columns)\n",
    "centroids\n",
    "aux['cluster'] = kmeans.labels_.tolist()"
   ]
  }
 ],
 "metadata": {
  "kernelspec": {
   "display_name": "Python 3",
   "language": "python",
   "name": "python3"
  },
  "language_info": {
   "codemirror_mode": {
    "name": "ipython",
    "version": 3
   },
   "file_extension": ".py",
   "mimetype": "text/x-python",
   "name": "python",
   "nbconvert_exporter": "python",
   "pygments_lexer": "ipython3",
   "version": "3.7.3"
  }
 },
 "nbformat": 4,
 "nbformat_minor": 2
}
